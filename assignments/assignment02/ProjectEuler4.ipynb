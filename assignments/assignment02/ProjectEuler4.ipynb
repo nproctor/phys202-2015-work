{
 "cells": [
  {
   "cell_type": "markdown",
   "metadata": {
    "nbgrader": {}
   },
   "source": [
    "# Project Euler: Problem 4"
   ]
  },
  {
   "cell_type": "markdown",
   "metadata": {
    "nbgrader": {}
   },
   "source": [
    "https://projecteuler.net/problem=4\n",
    "\n",
    "A palindromic number reads the same both ways. The largest palindrome made from the product of two 2-digit numbers is 9009 = 91 × 99.\n",
    "\n",
    "Find the largest palindrome made from the product of two 3-digit numbers."
   ]
  },
  {
   "cell_type": "code",
   "execution_count": 3,
   "metadata": {
    "collapsed": false,
    "deletable": false,
    "nbgrader": {
     "checksum": "6cff4e8e53b15273846c3aecaea84a3d",
     "solution": true
    }
   },
   "outputs": [
    {
     "name": "stdout",
     "output_type": "stream",
     "text": [
      "906609\n"
     ]
    }
   ],
   "source": [
    "x = 1000\n",
    "my_list = []\n",
    "reverse = []\n",
    "palin = []\n",
    "for i in range(x): # this will give you i values from 0 to 999\n",
    "    for j in range(x): # this will also give you values from 0 to 999\n",
    "        my_list.append(list(str(i*j))) #this takes all the products of all the values from 0-999 and with 0-999 and puts the product in a list, and then puts all the lists in a list\n",
    "        reverse.append((list(str(i*j)))[::-1]) # this does the same as the above, but appends the products in \"steps of -1\", meaning the product is listed backwards then those lists are appeneded to the \"reverse\" list \n",
    "for i in range(len(my_list)): \n",
    "    if my_list[i] == reverse[i]: # if the products are the same in both list (forwards and backwards)\n",
    "        palin.append(\"\".join(my_list[i])) #then the lists in a list are joined into a single element lists in a list\n",
    "for i in range(len(palin)):\n",
    "    palin[i] = int(palin[i]) # the values of the single element lists are turned into a list of the values\n",
    "    \n",
    " \n",
    "print(max(palin)) # then the max value of the list is taken\n"
   ]
  },
  {
   "cell_type": "code",
   "execution_count": null,
   "metadata": {
    "collapsed": true,
    "deletable": false,
    "nbgrader": {
     "checksum": "aff23ddd30b5712efa3907cd1608bcf5",
     "grade": true,
     "grade_id": "projecteuler4",
     "points": 10
    }
   },
   "outputs": [],
   "source": [
    "# This cell will be used for grading, leave it at the end of the notebook."
   ]
  }
 ],
 "metadata": {
  "kernelspec": {
   "display_name": "Python 3",
   "language": "python",
   "name": "python3"
  },
  "language_info": {
   "codemirror_mode": {
    "name": "ipython",
    "version": 3
   },
   "file_extension": ".py",
   "mimetype": "text/x-python",
   "name": "python",
   "nbconvert_exporter": "python",
   "pygments_lexer": "ipython3",
   "version": "3.4.0"
  }
 },
 "nbformat": 4,
 "nbformat_minor": 0
}
