{
 "cells": [
  {
   "cell_type": "markdown",
   "metadata": {
    "nbgrader": {}
   },
   "source": [
    "# Project Euler: Problem 59"
   ]
  },
  {
   "cell_type": "markdown",
   "metadata": {
    "nbgrader": {}
   },
   "source": [
    "https://projecteuler.net/problem=59\n",
    "\n",
    "Each character on a computer is assigned a unique code and the preferred standard is ASCII (American Standard Code for Information Interchange). For example, uppercase A = 65, asterisk (*) = 42, and lowercase k = 107.\n",
    "\n",
    "A modern encryption method is to take a text file, convert the bytes to ASCII, then XOR each byte with a given value, taken from a secret key. The advantage with the XOR function is that using the same encryption key on the cipher text, restores the plain text; for example, 65 XOR 42 = 107, then 107 XOR 42 = 65.\n",
    "\n",
    "For unbreakable encryption, the key is the same length as the plain text message, and the key is made up of random bytes. The user would keep the encrypted message and the encryption key in different locations, and without both \"halves\", it is impossible to decrypt the message.\n",
    "\n",
    "Unfortunately, this method is impractical for most users, so the modified method is to use a password as a key. If the password is shorter than the message, which is likely, the key is repeated cyclically throughout the message. The balance for this method is using a sufficiently long password key for security, but short enough to be memorable.\n",
    "\n",
    "Your task has been made easy, as the encryption key consists of three lower case characters. Using cipher.txt (in this directory), a file containing the encrypted ASCII codes, and the knowledge that the plain text must contain common English words, decrypt the message and find the sum of the ASCII values in the original text."
   ]
  },
  {
   "cell_type": "markdown",
   "metadata": {
    "nbgrader": {}
   },
   "source": [
    "The following cell shows examples of how to perform XOR in Python and how to go back and forth between characters and integers:"
   ]
  },
  {
   "cell_type": "code",
   "execution_count": 1,
   "metadata": {
    "collapsed": true,
    "nbgrader": {}
   },
   "outputs": [],
   "source": [
    "assert 65 ^ 42 == 107\n",
    "assert 107 ^ 42 == 65\n",
    "assert ord('a') == 97\n",
    "assert chr(97) == 'a'"
   ]
  },
  {
   "cell_type": "markdown",
   "metadata": {
    "nbgrader": {}
   },
   "source": [
    "Certain functions in the `itertools` module may be useful for computing permutations:"
   ]
  },
  {
   "cell_type": "code",
   "execution_count": null,
   "metadata": {
    "collapsed": true,
    "nbgrader": {}
   },
   "outputs": [],
   "source": [
    "from itertools import "
   ]
  },
  {
   "cell_type": "code",
   "execution_count": 84,
   "metadata": {
    "collapsed": false,
    "deletable": false,
    "nbgrader": {
     "checksum": "6cff4e8e53b15273846c3aecaea84a3d",
     "solution": true
    }
   },
   "outputs": [
    {
     "name": "stdout",
     "output_type": "stream",
     "text": [
      "(The Gospel of John, chapter 1) 1 In the beginning the Word already existed. He was with God, and he was God. 2 He was in the beginning with God. 3 He created everything there is. Nothing exists that he didn't make. 4 Life itself was in him, and this life gives light to everyone. 5 The light shines through the darkness, and the darkness can never extinguish it. 6 God sent John the Baptist 7 to tell everyone about the light so that everyone might believe because of his testimony. 8 John himself was not the light; he was only a witness to the light. 9 The one who is the true light, who gives light to everyone, was going to come into the world. 10 But although the world was made through him, the world didn't recognize him when he came. 11 Even in his own land and among his own people, he was not accepted. 12 But to all who believed him and accepted him, he gave the right to become children of God. 13 They are reborn! This is not a physical birth resulting from human passion or plan, this rebirth comes from God.14 So the Word became human and lived here on earth among us. He was full of unfailing love and faithfulness. And we have seen his glory, the glory of the only Son of the Father.\n",
      "107359\n"
     ]
    }
   ],
   "source": [
    "cipher = open(\"cipher.txt\", \"r\")\n",
    "numbers = cipher.read().split(\",\")\n",
    "\n",
    "a = [i for i in range(97,123)]   # This is set because the keys MUST be lowercase\n",
    "b = [i for i in range(97,123)]\n",
    "c= [i for i in range(97,123)]\n",
    "\n",
    "# --------\n",
    "\n",
    "#every third number will use the same key (abcabcabc...) so I make an array of text that will use the \"a\", \"b\", and \"c\" keys, respectively\n",
    "\n",
    "frst_thrd = []\n",
    "snd_thrd = []\n",
    "thrd_thrd = []\n",
    "for i in range(len(numbers)):\n",
    "    if i % 3 == 0 or i == 0:\n",
    "        frst_thrd.append(int(numbers[i]))\n",
    "    elif i % 3 == 1 or i == 1:\n",
    "        snd_thrd.append(int(numbers[i]))\n",
    "    elif i % 3 == 2 or i == 2:\n",
    "        thrd_thrd.append(int(numbers[i]))\n",
    "        \n",
    "# --------\n",
    "        \n",
    "# Let's start with \"a\", our first key:\n",
    "        \n",
    "probable_keys_a = []\n",
    "for possible_key in a:\n",
    "    for elements in frst_thrd:\n",
    "        if elements ^ possible_key == 32:       # here I'm assuming that the original text must have at least one \"space\" in the (3^n - 1) number of the original text \n",
    "            probable_keys_a.append(possible_key)\n",
    "            \n",
    "probable_keys_a = list(set(probable_keys_a)) # these are now all my possible keys for a that include a space (ASCII 32)\n",
    "\n",
    "for elements in frst_thrd:\n",
    "    for keys in probable_keys_a:\n",
    "        if elements ^ keys < 32 or elements ^ keys > 122: #because this is common english word, I'm removing the ASCII numbers that are not included in plain enlgish or are not printable\n",
    "            probable_keys_a.remove(keys)\n",
    "            \n",
    "# This works out well, and now \"probable_keys_a\" only has one element in it, and that is my 'a' key\n",
    "\n",
    "\n",
    "\n",
    "#--------\n",
    "\n",
    "\n",
    "\n",
    "\n",
    "# Now we do the same for the 'b' key\n",
    "probable_keys_b = []\n",
    "for possible_key in b:\n",
    "    for elements in snd_thrd:\n",
    "        if elements ^ possible_key == 32: # assuming there is a space somewhere\n",
    "            probable_keys_b.append(possible_key)\n",
    "        \n",
    "\n",
    "probable_keys_b = list(set(probable_keys_b))\n",
    "\n",
    "\n",
    "for elements in snd_thrd:\n",
    "    for keys in probable_keys_b:\n",
    "        if elements ^ keys < 32 or elements ^ keys > 122: # eliminating unlikely ASCII numbers\n",
    "            probable_keys_b.remove(keys)\n",
    "\n",
    "# once again, I have one element stored in 'probable_keys_b', this is my 'b' key\n",
    "\n",
    "\n",
    "#-------\n",
    "\n",
    "# and the same process for c\n",
    "probable_keys_c = []\n",
    "for possible_key in c:\n",
    "    for elements in thrd_thrd:\n",
    "        if elements ^ possible_key == 32: # assuming spaces\n",
    "            probable_keys_c.append(possible_key)\n",
    "            \n",
    "probable_keys_c = list(set(probable_keys_c))\n",
    "\n",
    "for elements in thrd_thrd:\n",
    "    for keys in probable_keys_c:\n",
    "        if elements ^ keys < 32 or elements ^ keys > 122: # removing unlikely keys\n",
    "            probable_keys_c.remove(keys)\n",
    "\n",
    "# and I have one key for 'c' stored in 'probable_keys_c'\n",
    "\n",
    "\n",
    "# NOW WE HAVE OUR KEYS (hopefully)\n",
    "\n",
    "key = [probable_keys_a[0], probable_keys_b[0], probable_keys_c[0]] # make a list including the single elements stored in the 'a', 'b', and 'c' lists.\n",
    "\n",
    "\n",
    "import itertools\n",
    "\n",
    "key_looped = itertools.cycle(key) # use itertools cycle to produce keys a b c a b c a b c... ad infinitem \n",
    "\n",
    "\n",
    "\n",
    "deciphered = []\n",
    "for i in range(len(numbers)):\n",
    "    new_element = next(key_looped) ^ int(numbers[i]) # XOR each element in my cycle to the encrypted message\n",
    "    deciphered.append(new_element)\n",
    "\n",
    "\n",
    "print(\"\".join(map(chr, deciphered))) # print the string equivalent of the ASCII text\n",
    "\n",
    "\n",
    "print(sum(deciphered)) # print the sum of the ASCII values from the original text\n",
    "\n",
    "\n",
    "# https://docs.python.org used to look up built- in python functions\n",
    "# Used SJSlavin's idea to look up spaces\n",
    "# Used telthien's idea to excluded unlikely characters \n",
    "    \n",
    "cipher.close()\n",
    "\n",
    "    "
   ]
  },
  {
   "cell_type": "code",
   "execution_count": 57,
   "metadata": {
    "collapsed": true,
    "deletable": false,
    "nbgrader": {
     "checksum": "dcdf6792a88c661545d3ca651212dba8",
     "grade": true,
     "grade_id": "projecteuler59",
     "points": 10
    }
   },
   "outputs": [],
   "source": [
    "# This cell will be used for grading, leave it at the end of the notebook."
   ]
  },
  {
   "cell_type": "code",
   "execution_count": null,
   "metadata": {
    "collapsed": true
   },
   "outputs": [],
   "source": []
  }
 ],
 "metadata": {
  "kernelspec": {
   "display_name": "Python 3",
   "language": "python",
   "name": "python3"
  },
  "language_info": {
   "codemirror_mode": {
    "name": "ipython",
    "version": 3
   },
   "file_extension": ".py",
   "mimetype": "text/x-python",
   "name": "python",
   "nbconvert_exporter": "python",
   "pygments_lexer": "ipython3",
   "version": "3.4.0"
  }
 },
 "nbformat": 4,
 "nbformat_minor": 0
}
