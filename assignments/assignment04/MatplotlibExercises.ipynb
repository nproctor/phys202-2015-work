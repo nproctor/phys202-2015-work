{
 "cells": [
  {
   "cell_type": "markdown",
   "metadata": {},
   "source": [
    "# Visualization 1: Matplotlib Basics Exercises"
   ]
  },
  {
   "cell_type": "code",
   "execution_count": 2,
   "metadata": {
    "collapsed": false
   },
   "outputs": [],
   "source": [
    "%matplotlib inline\n",
    "import matplotlib.pyplot as plt\n",
    "import numpy as np"
   ]
  },
  {
   "cell_type": "markdown",
   "metadata": {},
   "source": [
    "## Scatter plots"
   ]
  },
  {
   "cell_type": "markdown",
   "metadata": {},
   "source": [
    "Learn how to use Matplotlib's `plt.scatter` function to make a 2d scatter plot.\n",
    "\n",
    "* Generate random data using `np.random.randn`.\n",
    "* Style the markers (color, size, shape, alpha) appropriately.\n",
    "* Include an x and y label and title."
   ]
  },
  {
   "cell_type": "code",
   "execution_count": 8,
   "metadata": {
    "collapsed": false
   },
   "outputs": [
    {
     "data": {
      "text/plain": [
       "<matplotlib.text.Text at 0x7f2028504290>"
      ]
     },
     "execution_count": 8,
     "metadata": {},
     "output_type": "execute_result"
    },
    {
     "data": {
      "image/png": "[encoded data removed]",
      "text/plain": [
       "<matplotlib.figure.Figure at 0x7f2028549d50>"
      ]
     },
     "metadata": {},
     "output_type": "display_data"
    }
   ],
   "source": [
    "data = np.random.randn(2, 100)\n",
    "plt.scatter(data[0], data[1])\n",
    "plt.xlabel(\"Random Number 1\", fontsize=12, color=\"#666666\")\n",
    "plt.ylabel(\"Random Number 2\", fontsize=12, color=\"#666666\")\n",
    "ax = plt.gca()\n",
    "ax.spines['right'].set_color(\"None\")\n",
    "ax.spines['top'].set_color(\"None\")\n",
    "ax.spines['bottom'].set_color(\"#666666\")\n",
    "ax.spines['left'].set_color(\"#666666\")\n",
    "ax.tick_params(axis='x', colors='#666666')\n",
    "ax.tick_params(axis='y', colors='#666666')\n",
    "ax.get_xaxis().tick_bottom()\n",
    "ax.get_yaxis().tick_left()\n",
    "plt.title(\"2D Random Number Scatter Plot\", color=\"#383838\")\n",
    "\n",
    "\n"
   ]
  },
  {
   "cell_type": "markdown",
   "metadata": {},
   "source": [
    "## Histogram"
   ]
  },
  {
   "cell_type": "markdown",
   "metadata": {},
   "source": [
    "Learn how to use Matplotlib's `plt.hist` function to make a 1d histogram.\n",
    "\n",
    "* Generate randpom data using `np.random.randn`.\n",
    "* Figure out how to set the number of histogram bins and other style options.\n",
    "* Include an x and y label and title."
   ]
  },
  {
   "cell_type": "code",
   "execution_count": 9,
   "metadata": {
    "collapsed": false
   },
   "outputs": [
    {
     "data": {
      "text/plain": [
       "<matplotlib.text.Text at 0x7f20284352d0>"
      ]
     },
     "execution_count": 9,
     "metadata": {},
     "output_type": "execute_result"
    },
    {
     "data": {
      "image/png": "[encoded data removed]",
      "text/plain": [
       "<matplotlib.figure.Figure at 0x7f20289e04d0>"
      ]
     },
     "metadata": {},
     "output_type": "display_data"
    }
   ],
   "source": [
    "data = np.random.randn(50)\n",
    "plt.hist(data, 20, facecolor='green', )\n",
    "plt.xlabel(\"Random Number\", fontsize=12, color=\"#666666\")\n",
    "plt.ylabel(\"Probability\", fontsize=12, color=\"#666666\")\n",
    "ax = plt.gca()\n",
    "ax.spines['right'].set_color(\"None\")\n",
    "ax.spines['top'].set_color(\"None\")\n",
    "ax.spines['bottom'].set_color(\"#666666\")\n",
    "ax.spines['left'].set_color(\"#666666\")\n",
    "ax.tick_params(axis='x', colors='#666666')\n",
    "ax.tick_params(axis='y', colors='#666666')\n",
    "ax.get_xaxis().tick_bottom()\n",
    "ax.get_yaxis().tick_left()\n",
    "plt.title(\"Random Number Histogram\", color=\"#383838\")\n"
   ]
  },
  {
   "cell_type": "code",
   "execution_count": null,
   "metadata": {
    "collapsed": true
   },
   "outputs": [],
   "source": [
    "# used \"Joe Kington\"'s (from stackoverflow) method for setting axis tick and label colors\n",
    "# used \"timday\"'s (from stackoverflow) method for hiding the top and right axis and ticks"
   ]
  }
 ],
 "metadata": {
  "kernelspec": {
   "display_name": "Python 2",
   "language": "python",
   "name": "python2"
  },
  "language_info": {
   "codemirror_mode": {
    "name": "ipython",
    "version": 2
   },
   "file_extension": ".py",
   "mimetype": "text/x-python",
   "name": "python",
   "nbconvert_exporter": "python",
   "pygments_lexer": "ipython2",
   "version": "2.7.6"
  }
 },
 "nbformat": 4,
 "nbformat_minor": 0
}
