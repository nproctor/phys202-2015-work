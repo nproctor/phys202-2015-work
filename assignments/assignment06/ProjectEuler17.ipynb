{
 "cells": [
  {
   "cell_type": "markdown",
   "metadata": {
    "nbgrader": {}
   },
   "source": [
    "# Project Euler: Problem 17"
   ]
  },
  {
   "cell_type": "markdown",
   "metadata": {
    "nbgrader": {}
   },
   "source": [
    "https://projecteuler.net/problem=17\n",
    "\n",
    "If the numbers 1 to 5 are written out in words: one, two, three, four, five, then there are 3 + 3 + 5 + 4 + 4 = 19 letters used in total.\n",
    "\n",
    "If all the numbers from 1 to 1000 (one thousand) inclusive were written out in words, how many letters would be used?\n",
    "\n",
    "\n",
    "NOTE: Do not count spaces or hyphens. For example, 342 (three hundred and forty-two) contains 23 letters and 115 (one hundred and fifteen) contains 20 letters. The use of \"and\" when writing out numbers is in compliance with British usage."
   ]
  },
  {
   "cell_type": "markdown",
   "metadata": {
    "nbgrader": {}
   },
   "source": [
    "First write a `number_to_words(n)` function that takes an integer `n` between 1 and 1000 inclusive and returns a list of words for the number as described above"
   ]
  },
  {
   "cell_type": "code",
   "execution_count": 1,
   "metadata": {
    "collapsed": true
   },
   "outputs": [],
   "source": [
    "import numpy as np"
   ]
  },
  {
   "cell_type": "code",
   "execution_count": 2,
   "metadata": {
    "collapsed": false,
    "nbgrader": {
     "checksum": "790b69a83b63d5a31b5fac1451dd3b54",
     "solution": true
    }
   },
   "outputs": [],
   "source": [
    "numbers = {0: \"\", 1:\"one\", 2:\"two\", 3:\"three\", 4:\"four\", 5:\"five\", 6:\"six\", 7:\"seven\", 8:\"eight\", 9:\"nine\", 10:\"ten\", 11:\"eleven\",\n",
    "          12:\"twelve\", 13:\"thirteen\", 14:\"fourteen\", 15:\"fifteen\", 16:\"sixteen\", 17:\"seventeen\", 18:\"eighteen\", 19:\"nineteen\",\n",
    "          20:\"twenty\", 30:\"thirty\", 40:\"forty\", 50:\"fifty\", 60:\"sixty\", 70:\"seventy\", 80:\"eighty\", 90:\"ninety\", 100:\"hundred\", \n",
    "           1000:\"onethousand\"}\n",
    "\n",
    "\n",
    "#I did this part with two functions to make my method more straightforward\n",
    "# The first function takes a number and breaks it into 1000s, 100s, 10s and 1s. \n",
    "# It also adjusts for perculiar numbers such as 'eleven and 'thirteen'. The second function\n",
    "# takes the number list from the first function and turns it into words.\n",
    "\n",
    "def number_in_parts(n):\n",
    "    #this breaks up a number into parts\n",
    "    #an entry of 526 would return a list of [500, 20, 6]\n",
    "    broken_number = []\n",
    "    length = len(str(n))\n",
    "    for i in range(length):\n",
    "        f = int(str(n)[i]) * 10**(length-(i+1))\n",
    "        broken_number.append(f)\n",
    "    for i in range(len(broken_number)):\n",
    "        if broken_number[i] == 10:\n",
    "            broken_number[i]= broken_number[i] + broken_number[i+1]\n",
    "            broken_number[i+1] = 0\n",
    "    return(broken_number) \n",
    "\n",
    "\n",
    "def number_to_words(entry):\n",
    "    \"\"\"Given a number n between 1-1000 inclusive return a list of words for the number.\"\"\"\n",
    "    letters = []\n",
    "    for number in entry:\n",
    "    # if 100-900, adding \"1-9\" and \"hundred\"\n",
    "        if number >= 100 and number < 1000:\n",
    "            n = number/100\n",
    "            letters.append(numbers[n])\n",
    "            letters.append(numbers[100])\n",
    "        else:\n",
    "            letters.append(numbers[number])\n",
    "    # adding an \"and\" for anything above 99 with nonzero terms in the 10s or 1s place\n",
    "    if (letters[-1] != \"\" or letters[-2] != \"\") and len(entry) > 2: \n",
    "        letters.append(\"and\")\n",
    "    final = \"\".join(letters)\n",
    "    return(final)\n",
    "\n",
    "\n",
    "\n",
    "    "
   ]
  },
  {
   "cell_type": "markdown",
   "metadata": {
    "nbgrader": {}
   },
   "source": [
    "Now write a set of `assert` tests for your `number_to_words` function that verifies that it is working as expected."
   ]
  },
  {
   "cell_type": "code",
   "execution_count": 3,
   "metadata": {
    "collapsed": false,
    "deletable": false,
    "nbgrader": {
     "checksum": "6cff4e8e53b15273846c3aecaea84a3d",
     "solution": true
    }
   },
   "outputs": [],
   "source": [
    "assert number_in_parts(123) == [100, 20, 3]\n",
    "assert number_in_parts(112) == [100, 12, 0]\n",
    "assert number_in_parts(1000) == [1000, 0, 0, 0]\n",
    "assert number_to_words(number_in_parts(100)) == \"onehundred\"\n",
    "assert number_to_words(number_in_parts(112)) == \"onehundredtwelveand\"\n",
    "assert number_to_words(number_in_parts(589)) == \"fivehundredeightynineand\"\n",
    "assert number_to_words(number_in_parts(102)) == \"onehundredtwoand\"\n",
    "assert number_to_words(number_in_parts(140)) == \"onehundredfortyand\""
   ]
  },
  {
   "cell_type": "code",
   "execution_count": 4,
   "metadata": {
    "collapsed": true,
    "deletable": false,
    "nbgrader": {
     "checksum": "2c71c0f9dbe2a57b1ddc17bf544d86ed",
     "grade": true,
     "grade_id": "projecteuler17a",
     "points": 4
    }
   },
   "outputs": [],
   "source": [
    "assert True # use this for grading the number_to_words tests."
   ]
  },
  {
   "cell_type": "markdown",
   "metadata": {
    "nbgrader": {}
   },
   "source": [
    "Now define a `count_letters(n)` that returns the number of letters used to write out the words for all of the the numbers `1` to `n` inclusive."
   ]
  },
  {
   "cell_type": "code",
   "execution_count": 5,
   "metadata": {
    "collapsed": false,
    "nbgrader": {
     "checksum": "be228a805b41eda2b30887a53523f76b",
     "solution": true
    }
   },
   "outputs": [],
   "source": [
    "def count_letters(n):\n",
    "    \"\"\"Count the number of letters used to write out the words for 1-n inclusive.\"\"\"\n",
    "    x = 0\n",
    "    for i in range(n):\n",
    "        x += len(number_to_words(number_in_parts(i+1)))\n",
    "    return x"
   ]
  },
  {
   "cell_type": "markdown",
   "metadata": {
    "nbgrader": {}
   },
   "source": [
    "Now write a set of `assert` tests for your `count_letters` function that verifies that it is working as expected."
   ]
  },
  {
   "cell_type": "code",
   "execution_count": 6,
   "metadata": {
    "collapsed": false,
    "deletable": false,
    "nbgrader": {
     "checksum": "6cff4e8e53b15273846c3aecaea84a3d",
     "solution": true
    }
   },
   "outputs": [],
   "source": [
    "assert count_letters(1) == 3\n",
    "assert count_letters(2) == 6\n",
    "assert count_letters(3) == 11\n",
    "assert count_letters(500) - count_letters(499) == len(\"fivehundred\")\n",
    "assert count_letters(459) - count_letters(458) == len(number_to_words(number_in_parts(459))) == len(\"fourhundredandfiftynine\")\n",
    "assert count_letters(1000) - count_letters(999) == len(\"onethousand\")\n",
    "assert count_letters(412) - count_letters(411) == len(\"fourhundredandtwelve\")\n",
    "assert count_letters(330) - count_letters(328) == len(\"threehundredandthirtythreehundredandtwentynine\")"
   ]
  },
  {
   "cell_type": "code",
   "execution_count": 7,
   "metadata": {
    "collapsed": true,
    "deletable": false,
    "nbgrader": {
     "checksum": "3a06c9610681f0174008f2976e310e0a",
     "grade": true,
     "grade_id": "projecteuler17b",
     "points": 4
    }
   },
   "outputs": [],
   "source": [
    "assert True # use this for grading the count_letters tests."
   ]
  },
  {
   "cell_type": "markdown",
   "metadata": {
    "nbgrader": {}
   },
   "source": [
    "Finally used your `count_letters` function to solve the original question."
   ]
  },
  {
   "cell_type": "code",
   "execution_count": 8,
   "metadata": {
    "collapsed": false,
    "deletable": false,
    "nbgrader": {
     "checksum": "6cff4e8e53b15273846c3aecaea84a3d",
     "solution": true
    }
   },
   "outputs": [
    {
     "name": "stdout",
     "output_type": "stream",
     "text": [
      "21124\n"
     ]
    }
   ],
   "source": [
    "print(count_letters(1000))"
   ]
  },
  {
   "cell_type": "code",
   "execution_count": null,
   "metadata": {
    "collapsed": true,
    "deletable": false,
    "nbgrader": {
     "checksum": "a136658e13c4f1154caf307a2e852f99",
     "grade": true,
     "grade_id": "projecteuler17c",
     "points": 2
    }
   },
   "outputs": [],
   "source": [
    "assert True # use this for gradig the answer to the original question."
   ]
  }
 ],
 "metadata": {
  "kernelspec": {
   "display_name": "Python 3",
   "language": "python",
   "name": "python3"
  },
  "language_info": {
   "codemirror_mode": {
    "name": "ipython",
    "version": 3
   },
   "file_extension": ".py",
   "mimetype": "text/x-python",
   "name": "python",
   "nbconvert_exporter": "python",
   "pygments_lexer": "ipython3",
   "version": "3.4.0"
  }
 },
 "nbformat": 4,
 "nbformat_minor": 0
}
