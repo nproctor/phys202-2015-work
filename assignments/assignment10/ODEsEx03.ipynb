{
 "cells": [
  {
   "cell_type": "markdown",
   "metadata": {
    "nbgrader": {}
   },
   "source": [
    "# Ordinary Differential Equations Exercise 3"
   ]
  },
  {
   "cell_type": "markdown",
   "metadata": {
    "nbgrader": {}
   },
   "source": [
    "## Imports"
   ]
  },
  {
   "cell_type": "code",
   "execution_count": 2,
   "metadata": {
    "collapsed": false,
    "nbgrader": {}
   },
   "outputs": [
    {
     "name": "stderr",
     "output_type": "stream",
     "text": [
      ":0: FutureWarning: IPython widgets are experimental and may change in the future.\n"
     ]
    }
   ],
   "source": [
    "%matplotlib inline\n",
    "import matplotlib.pyplot as plt\n",
    "import numpy as np\n",
    "import seaborn as sns\n",
    "from scipy.integrate import odeint\n",
    "from IPython.html.widgets import interact, fixed"
   ]
  },
  {
   "cell_type": "markdown",
   "metadata": {
    "nbgrader": {}
   },
   "source": [
    "## Damped, driven nonlinear pendulum"
   ]
  },
  {
   "cell_type": "markdown",
   "metadata": {
    "nbgrader": {}
   },
   "source": [
    "The equations of motion for a simple [pendulum](http://en.wikipedia.org/wiki/Pendulum) of mass $m$, length $l$ are:\n",
    "\n",
    "$$\n",
    "\\frac{d^2\\theta}{dt^2} = \\frac{-g}{\\ell}\\sin\\theta\n",
    "$$\n",
    "\n",
    "When a damping and periodic driving force are added the resulting system has much richer and interesting dynamics:\n",
    "\n",
    "$$\n",
    "\\frac{d^2\\theta}{dt^2} = \\frac{-g}{\\ell}\\sin\\theta - a \\omega - b \\sin(\\omega_0 t)\n",
    "$$\n",
    "\n",
    "In this equation:\n",
    "\n",
    "* $a$ governs the strength of the damping.\n",
    "* $b$ governs the strength of the driving force.\n",
    "* $\\omega_0$ is the angular frequency of the driving force.\n",
    "\n",
    "When $a=0$ and $b=0$, the energy/mass is conserved:\n",
    "\n",
    "$$E/m =g\\ell(1-\\cos(\\theta)) + \\frac{1}{2}\\ell^2\\omega^2$$"
   ]
  },
  {
   "cell_type": "markdown",
   "metadata": {
    "nbgrader": {}
   },
   "source": [
    "### Basic setup"
   ]
  },
  {
   "cell_type": "markdown",
   "metadata": {
    "nbgrader": {}
   },
   "source": [
    "Here are the basic parameters we are going to use for this exercise:"
   ]
  },
  {
   "cell_type": "code",
   "execution_count": 3,
   "metadata": {
    "collapsed": false,
    "nbgrader": {}
   },
   "outputs": [],
   "source": [
    "g = 9.81   # m/s^2\n",
    "l = 0.5    # length of pendulum, in meters\n",
    "tmax = 50. # seconds\n",
    "t = np.linspace(0, tmax, int(100*tmax))"
   ]
  },
  {
   "cell_type": "markdown",
   "metadata": {
    "nbgrader": {}
   },
   "source": [
    "Write a function `derivs` for usage with `scipy.integrate.odeint` that computes the derivatives for the damped, driven harmonic oscillator. The solution vector at each time will be $\\vec{y}(t) = (\\theta(t),\\omega(t))$."
   ]
  },
  {
   "cell_type": "code",
   "execution_count": 4,
   "metadata": {
    "collapsed": false,
    "nbgrader": {
     "checksum": "c7256bdd25791dfa8322d3b828cec74d",
     "solution": true
    }
   },
   "outputs": [],
   "source": [
    "def derivs(y, t, a, b, omega0):\n",
    "    \"\"\"Compute the derivatives of the damped, driven pendulum.\n",
    "    \n",
    "    Parameters\n",
    "    ----------\n",
    "    y : ndarray\n",
    "        The solution vector at the current time t[i]: [theta[i],omega[i]].\n",
    "    t : float\n",
    "        The current time t[i].\n",
    "    a, b, omega0: float\n",
    "        The parameters in the differential equation.\n",
    "    \n",
    "    Returns\n",
    "    -------\n",
    "    dy : ndarray\n",
    "        The vector of derviatives at t[i]: [dtheta[i],domega[i]].\n",
    "    \"\"\"\n",
    "    dy0 = y[1]\n",
    "    dy1 = -g/l * np.sin(y[0]) - a*dy0 - b*np.sin(omega0*t)\n",
    "    return(dy0,dy1)"
   ]
  },
  {
   "cell_type": "code",
   "execution_count": 5,
   "metadata": {
    "collapsed": false
   },
   "outputs": [
    {
     "data": {
      "text/plain": [
       "(1.0, -1.0000000000000024)"
      ]
     },
     "execution_count": 5,
     "metadata": {},
     "output_type": "execute_result"
    }
   ],
   "source": [
    "derivs(np.array([np.pi,1.0]), 0, 1.0, 1.0, 1.0)"
   ]
  },
  {
   "cell_type": "code",
   "execution_count": 6,
   "metadata": {
    "collapsed": false,
    "deletable": false,
    "nbgrader": {
     "checksum": "3509b75989fc0ec30fa07c7a9331e14e",
     "grade": true,
     "grade_id": "odesex03a",
     "points": 2
    }
   },
   "outputs": [],
   "source": [
    "assert np.allclose(derivs(np.array([np.pi,1.0]), 0, 1.0, 1.0, 1.0), [1.,-1.])"
   ]
  },
  {
   "cell_type": "code",
   "execution_count": 7,
   "metadata": {
    "collapsed": false,
    "nbgrader": {
     "checksum": "eb552816913899d79298c64989e872d4",
     "solution": true
    }
   },
   "outputs": [],
   "source": [
    "def energy(y):\n",
    "    \"\"\"Compute the energy for the state array y.\n",
    "    \n",
    "    The state array y can have two forms:\n",
    "    \n",
    "    1. It could be an ndim=1 array of np.array([theta,omega]) at a single time.\n",
    "    2. It could be an ndim=2 array where each row is the [theta,omega] at single\n",
    "       time.\n",
    "    \n",
    "    Parameters\n",
    "    ----------\n",
    "    y : ndarray, list, tuple\n",
    "        A solution vector\n",
    "    \n",
    "    Returns\n",
    "    -------\n",
    "    E/m : float (ndim=1) or ndarray (ndim=2)\n",
    "        The energy per mass.\n",
    "    \"\"\"\n",
    "    if np.ndim(y) == 1:\n",
    "        y = np.array([y])\n",
    "    z = np.shape(y)[0]\n",
    "    Em = g * l * (1 - np.cos([y[i][0] for i in range(z)])) + 1/2 * l**2 * (np.array([y[i][1] for i in range(z)]))**2\n",
    "    return Em"
   ]
  },
  {
   "cell_type": "code",
   "execution_count": 8,
   "metadata": {
    "collapsed": false,
    "deletable": false,
    "nbgrader": {
     "checksum": "3eda6ae22611b37df76850d7cdc960d0",
     "grade": true,
     "grade_id": "odesex03b",
     "points": 2
    }
   },
   "outputs": [],
   "source": [
    "assert np.allclose(energy(np.array([np.pi,0])),g)\n",
    "assert np.allclose(energy(np.ones((10,2))), np.ones(10)*energy(np.array([1,1])))"
   ]
  },
  {
   "cell_type": "markdown",
   "metadata": {
    "nbgrader": {}
   },
   "source": [
    "### Simple pendulum"
   ]
  },
  {
   "cell_type": "markdown",
   "metadata": {
    "nbgrader": {}
   },
   "source": [
    "Use the above functions to integrate the simple pendulum for the case where it starts at rest pointing vertically upwards. In this case, it should remain at rest with constant energy.\n",
    "\n",
    "* Integrate the equations of motion.\n",
    "* Plot $E/m$ versus time.\n",
    "* Plot $\\theta(t)$ and $\\omega(t)$ versus time.\n",
    "* Tune the `atol` and `rtol` arguments of `odeint` until $E/m$, $\\theta(t)$ and $\\omega(t)$ are constant.\n",
    "\n",
    "Anytime you have a differential equation with a a conserved quantity, it is critical to make sure the numerical solutions conserve that quantity as well. This also gives you an opportunity to find other bugs in your code. The default error tolerances (`atol` and `rtol`) used by `odeint` are not sufficiently small for this problem. Start by trying `atol=1e-3`, `rtol=1e-2` and then decrease each by an order of magnitude until your solutions are stable."
   ]
  },
  {
   "cell_type": "code",
   "execution_count": 9,
   "metadata": {
    "collapsed": false,
    "deletable": false,
    "nbgrader": {
     "checksum": "6cff4e8e53b15273846c3aecaea84a3d",
     "solution": true
    }
   },
   "outputs": [],
   "source": [
    "a=0\n",
    "b=0\n",
    "omega0=0\n",
    "ans = odeint(derivs, np.array([np.pi,0]), t, args=(a,b,omega0), atol=10**(-5), rtol=10**(-4))"
   ]
  },
  {
   "cell_type": "code",
   "execution_count": 364,
   "metadata": {
    "collapsed": false,
    "deletable": false,
    "nbgrader": {
     "checksum": "6cff4e8e53b15273846c3aecaea84a3d",
     "solution": true
    }
   },
   "outputs": [
    {
     "data": {
      "image/png": "[encoded data removed]",
      "text/plain": [
       "<matplotlib.figure.Figure at 0x7f22a4c76e10>"
      ]
     },
     "metadata": {},
     "output_type": "display_data"
    }
   ],
   "source": [
    "plt.plot(t, energy(ans))\n",
    "plt.title(\"Energy of Simple Pendulum at ( $\\pi$, 0 )\")\n",
    "plt.xlabel(\"Time\")\n",
    "plt.ylabel(\"Energy\")\n",
    "ax = plt.gca()\n",
    "ax.set_axis_bgcolor(\"#fcfcfc\")"
   ]
  },
  {
   "cell_type": "code",
   "execution_count": 363,
   "metadata": {
    "collapsed": false,
    "deletable": false,
    "nbgrader": {
     "checksum": "6cff4e8e53b15273846c3aecaea84a3d",
     "solution": true
    }
   },
   "outputs": [
    {
     "data": {
      "text/plain": [
       "<matplotlib.legend.Legend at 0x7f22a4c2c2e8>"
      ]
     },
     "execution_count": 363,
     "metadata": {},
     "output_type": "execute_result"
    },
    {
     "data": {
      "image/png": "[encoded data removed]",
      "text/plain": [
       "<matplotlib.figure.Figure at 0x7f22a4c12668>"
      ]
     },
     "metadata": {},
     "output_type": "display_data"
    }
   ],
   "source": [
    "plt.plot(t, np.transpose(ans)[0], label=\"Omega\")\n",
    "plt.plot(t, np.transpose(ans)[1], label=\"Theta\")\n",
    "plt.title(\"Simple Pendulum\")\n",
    "plt.xlabel(\"Time\")\n",
    "ax = plt.gca()\n",
    "ax.set_axis_bgcolor(\"#fcfcfc\")\n",
    "plt.legend(loc ='lower right')"
   ]
  },
  {
   "cell_type": "code",
   "execution_count": 337,
   "metadata": {
    "collapsed": true,
    "deletable": false,
    "nbgrader": {
     "checksum": "afb5bca3311c3e9c7ac5070b15f2435c",
     "grade": true,
     "grade_id": "odesex03c",
     "points": 3
    }
   },
   "outputs": [],
   "source": [
    "assert True # leave this to grade the two plots and their tuning of atol, rtol."
   ]
  },
  {
   "cell_type": "markdown",
   "metadata": {
    "nbgrader": {}
   },
   "source": [
    "## Damped pendulum"
   ]
  },
  {
   "cell_type": "markdown",
   "metadata": {
    "nbgrader": {}
   },
   "source": [
    "Write a `plot_pendulum` function that integrates the damped, driven pendulum differential equation for a particular set of parameters $[a,b,\\omega_0]$.\n",
    "\n",
    "* Use the initial conditions $\\theta(0)=-\\pi + 0.1$ and $\\omega=0$.\n",
    "* Decrease your `atol` and `rtol` even futher and make sure your solutions have converged.\n",
    "* Make a parametric plot of $[\\theta(t),\\omega(t)]$ versus time.\n",
    "* Use the plot limits $\\theta \\in [-2 \\pi,2 \\pi]$ and $\\theta \\in [-10,10]$\n",
    "* Label your axes and customize your plot to make it beautiful and effective."
   ]
  },
  {
   "cell_type": "code",
   "execution_count": 365,
   "metadata": {
    "collapsed": false,
    "nbgrader": {
     "checksum": "82dc6206b4de351b8afc48dba9d0b915",
     "solution": true
    }
   },
   "outputs": [],
   "source": [
    "def plot_pendulum(a=0.0, b=0.0, omega0=0.0):\n",
    "    \"\"\"Integrate the damped, driven pendulum and make a phase plot of the solution.\"\"\"\n",
    "    ans = np.transpose(odeint(derivs, np.array([-np.pi + 0.1,0]), t, args=(a,b,omega0)))\n",
    "    plt.plot(ans[0], ans[1])\n",
    "    plt.title(\"Damped Driven Pendulum\")\n",
    "    plt.xlabel(\"Omega\")\n",
    "\n",
    "    plt.ylim(-10,10)\n",
    "    plt.ylabel(\"Theta\")\n",
    "    plt.grid(False)\n",
    "    ax = plt.gca()\n",
    "    ax.set_axis_bgcolor(\"white\")\n",
    "    plt.xticks(np.linspace(-2*np.pi, 2*np.pi, 5), [r'$-2\\pi$', r'$-\\pi$', r'$0$', r'$\\pi$', r'$2\\pi$'])"
   ]
  },
  {
   "cell_type": "markdown",
   "metadata": {
    "nbgrader": {}
   },
   "source": [
    "Here is an example of the output of your `plot_pendulum` function that should show a decaying spiral."
   ]
  },
  {
   "cell_type": "code",
   "execution_count": 366,
   "metadata": {
    "collapsed": false,
    "nbgrader": {}
   },
   "outputs": [
    {
     "data": {
      "image/png": "[encoded data removed]",
      "text/plain": [
       "<matplotlib.figure.Figure at 0x7f22a4693b70>"
      ]
     },
     "metadata": {},
     "output_type": "display_data"
    }
   ],
   "source": [
    "plot_pendulum(0.5, 0.0, 0.0)"
   ]
  },
  {
   "cell_type": "markdown",
   "metadata": {
    "nbgrader": {}
   },
   "source": [
    "Use `interact` to explore the `plot_pendulum` function with:\n",
    "\n",
    "* `a`: a float slider over the interval $[0.0,1.0]$ with steps of $0.1$.\n",
    "* `b`: a float slider over the interval $[0.0,10.0]$ with steps of $0.1$.\n",
    "* `omega0`: a float slider over the interval $[0.0,10.0]$ with steps of $0.1$."
   ]
  },
  {
   "cell_type": "code",
   "execution_count": 367,
   "metadata": {
    "collapsed": false,
    "deletable": false,
    "nbgrader": {
     "checksum": "6cff4e8e53b15273846c3aecaea84a3d",
     "solution": true
    }
   },
   "outputs": [
    {
     "data": {
      "image/png": "[encoded data removed]",
      "text/plain": [
       "<matplotlib.figure.Figure at 0x7f229faed7f0>"
      ]
     },
     "metadata": {},
     "output_type": "display_data"
    }
   ],
   "source": [
    "interact(plot_pendulum, a=(0.0,10.0,0.1), b=(0.0,10.0, 0.1), omega0=(0,10.0,0.1));"
   ]
  },
  {
   "cell_type": "markdown",
   "metadata": {
    "nbgrader": {}
   },
   "source": [
    "Use your interactive plot to explore the behavior of the damped, driven pendulum by varying the values of $a$, $b$ and $\\omega_0$.\n",
    "\n",
    "* First start by increasing $a$ with $b=0$ and $\\omega_0=0$.\n",
    "* Then fix $a$ at a non-zero value and start to increase $b$ and $\\omega_0$.\n",
    "\n",
    "Describe the different *classes* of behaviors you observe below."
   ]
  },
  {
   "cell_type": "markdown",
   "metadata": {
    "deletable": false,
    "nbgrader": {
     "checksum": "40364759d02737525e2503b814608893",
     "grade": true,
     "grade_id": "odesex03d",
     "points": 3,
     "solution": true
    }
   },
   "source": [
    "When a=0 and b and $\\omega_0$ are changed, the function both spirals and oscillates. When a and b are non zero, changing $\\omega_0$ mirrors the function across the y axis. When a and $\\omega_0$ are nonzero, increasing b increases the number of spirals. "
   ]
  },
  {
   "cell_type": "markdown",
   "metadata": {},
   "source": [
    "Refered to http://bulldog2.redlands.edu/facultyfolder/deweerd/tutorials/Tutorial-ODEs.pdf for solving second order ODEs"
   ]
  },
  {
   "cell_type": "code",
   "execution_count": null,
   "metadata": {
    "collapsed": true
   },
   "outputs": [],
   "source": []
  }
 ],
 "metadata": {
  "kernelspec": {
   "display_name": "Python 3",
   "language": "python",
   "name": "python3"
  },
  "language_info": {
   "codemirror_mode": {
    "name": "ipython",
    "version": 3
   },
   "file_extension": ".py",
   "mimetype": "text/x-python",
   "name": "python",
   "nbconvert_exporter": "python",
   "pygments_lexer": "ipython3",
   "version": "3.4.0"
  }
 },
 "nbformat": 4,
 "nbformat_minor": 0
}
