{
 "cells": [
  {
   "cell_type": "markdown",
   "metadata": {
    "nbgrader": {}
   },
   "source": [
    "# Project Euler: Problem 52"
   ]
  },
  {
   "cell_type": "markdown",
   "metadata": {
    "nbgrader": {}
   },
   "source": [
    "https://projecteuler.net/problem=52\n",
    "\n",
    "It can be seen that the number, $125874$, and its double, $251748$, contain exactly the same digits, but in a different order.\n",
    "\n",
    "Find the smallest positive integer, $x$, such that $2x$, $3x$, $4x$, $5x$, and $6x$, contain the same digits."
   ]
  },
  {
   "cell_type": "markdown",
   "metadata": {
    "nbgrader": {}
   },
   "source": [
    "First, write a function `same_digits(x,y)` that returns `True` if two integers `x` and `y` have the exact same set of digits and multiplicities and `False` if they have different digits."
   ]
  },
  {
   "cell_type": "code",
   "execution_count": 17,
   "metadata": {
    "collapsed": false,
    "nbgrader": {
     "checksum": "aad5ed41801af39fc06f00c8d275a010",
     "solution": true
    }
   },
   "outputs": [],
   "source": [
    "def same_digits(x, y):\n",
    "    \"\"\"Do the integers x and y have the same digits, regardless of order.\"\"\"\n",
    "    x = str(x)\n",
    "    y = str(y)\n",
    "    X = []\n",
    "    Y = []\n",
    "    for char in x:\n",
    "        X.append(int(char))\n",
    "    for char in y:\n",
    "        Y.append(int(char))\n",
    "    A = sorted(X)\n",
    "    B = sorted(Y)\n",
    "    if A == B:\n",
    "        return True\n",
    "    else:\n",
    "        return False"
   ]
  },
  {
   "cell_type": "code",
   "execution_count": 18,
   "metadata": {
    "collapsed": false
   },
   "outputs": [
    {
     "data": {
      "text/plain": [
       "False"
      ]
     },
     "execution_count": 18,
     "metadata": {},
     "output_type": "execute_result"
    }
   ],
   "source": [
    "same_digits(543, 546)"
   ]
  },
  {
   "cell_type": "code",
   "execution_count": 19,
   "metadata": {
    "collapsed": false,
    "deletable": false,
    "nbgrader": {
     "checksum": "dd0aff5d565bc794cee175aaa6c0cb3d",
     "grade": true,
     "grade_id": "projecteuler52a",
     "points": 4
    }
   },
   "outputs": [],
   "source": [
    "assert same_digits('132', '321')\n",
    "assert not same_digits('123', '3')\n",
    "assert not same_digits('456', '0987654321')"
   ]
  },
  {
   "cell_type": "markdown",
   "metadata": {
    "nbgrader": {}
   },
   "source": [
    "Now use the `same_digits` function to solve this Euler problem. As you work on this problem, be careful to debug and test your code on small integers before trying it on the full search."
   ]
  },
  {
   "cell_type": "code",
   "execution_count": 72,
   "metadata": {
    "collapsed": false,
    "deletable": false,
    "nbgrader": {
     "checksum": "6cff4e8e53b15273846c3aecaea84a3d",
     "solution": true
    }
   },
   "outputs": [],
   "source": [
    "def mult_dig(n):\n",
    "    m=1\n",
    "    o = n*m\n",
    "    while same_digits(o, m) == False:\n",
    "        m+= 1\n",
    "        o += n\n",
    "    return m, o\n",
    "        \n",
    "    "
   ]
  },
  {
   "cell_type": "code",
   "execution_count": 73,
   "metadata": {
    "collapsed": false
   },
   "outputs": [],
   "source": [
    "assert mult_dig(2) == (125874, 251748)"
   ]
  },
  {
   "cell_type": "code",
   "execution_count": 74,
   "metadata": {
    "collapsed": false
   },
   "outputs": [],
   "source": [
    "def all_dig(n):\n",
    "    # i started out making this a function but\n",
    "    # since time is restrained and I'm just trying to solve up to 6x\n",
    "    # argument (n) doesn't do anything\n",
    "    m = 1\n",
    "    o = 2*m\n",
    "    p = 3*m\n",
    "    q = 4*m\n",
    "    r = 5*m\n",
    "    s = 6*m\n",
    "    while same_digits(o,m) == False or same_digits(m, p) == False or same_digits(m, q) == False or same_digits(m, r)==False or same_digits(m, s)==False:\n",
    "        m += 1\n",
    "        o += 2\n",
    "        p += 3\n",
    "        q += 4\n",
    "        r += 5\n",
    "        s += 6\n",
    "    # The problem only asks to find x (m in this)\n",
    "    # But o,p,q,r,s can be printed to see other values\n",
    "    print(m)"
   ]
  },
  {
   "cell_type": "code",
   "execution_count": 75,
   "metadata": {
    "collapsed": false
   },
   "outputs": [
    {
     "name": "stdout",
     "output_type": "stream",
     "text": [
      "142857\n"
     ]
    }
   ],
   "source": [
    "all_dig(1)"
   ]
  },
  {
   "cell_type": "code",
   "execution_count": null,
   "metadata": {
    "collapsed": true,
    "deletable": false,
    "nbgrader": {
     "checksum": "dafbda681e8fb50925790dc1d0600750",
     "grade": true,
     "grade_id": "projecteuler52b",
     "points": 6
    }
   },
   "outputs": [],
   "source": [
    "assert True # leave this cell to grade the solution"
   ]
  }
 ],
 "metadata": {
  "kernelspec": {
   "display_name": "Python 3",
   "language": "python",
   "name": "python3"
  },
  "language_info": {
   "codemirror_mode": {
    "name": "ipython",
    "version": 3
   },
   "file_extension": ".py",
   "mimetype": "text/x-python",
   "name": "python",
   "nbconvert_exporter": "python",
   "pygments_lexer": "ipython3",
   "version": "3.4.0"
  }
 },
 "nbformat": 4,
 "nbformat_minor": 0
}
